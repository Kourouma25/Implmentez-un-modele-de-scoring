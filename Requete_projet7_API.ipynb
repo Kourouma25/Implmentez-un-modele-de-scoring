{
  "nbformat": 4,
  "nbformat_minor": 0,
  "metadata": {
    "colab": {
      "provenance": []
    },
    "kernelspec": {
      "name": "python3",
      "display_name": "Python 3"
    },
    "language_info": {
      "name": "python"
    }
  },
  "cells": [
    {
      "cell_type": "markdown",
      "source": [
        "# **Code API pour Github**"
      ],
      "metadata": {
        "id": "cjNJn_MCncrn"
      }
    },
    {
      "cell_type": "code",
      "source": [
        "import requests\n",
        "import pandas as pd"
      ],
      "metadata": {
        "id": "0hioW0rt3ljT"
      },
      "execution_count": null,
      "outputs": []
    },
    {
      "cell_type": "code",
      "source": [
        "# Charger les données\n",
        "data = pd.read_csv('fichier_testeAPI.csv')\n",
        "\n",
        "# Sélectionner les données à envoyer (par exemple, la première ligne)\n",
        "donne_predire = data.iloc[2:3, :].to_dict(orient='records')[0]\n",
        "\n",
        "# URL de votre service déployé sur Cloud Run\n",
        "url_base = \"https://projet-7-modele-de-scoring.ew.r.appspot.com/\"\n",
        "\n",
        "# Envoi de la requête POST pour effectuer la prédiction\n",
        "response = requests.post(f\"{url_base}/predire\", json=donne_predire)\n",
        "\n",
        "# Affichage de la réponse du endpoint\n",
        "if response.status_code == 200:\n",
        "    print(\"Réponse du serveur:\", response.json())\n",
        "else:\n",
        "    print(\"Erreur:\", response.text)"
      ],
      "metadata": {
        "id": "PcsfTPayEyjZ"
      },
      "execution_count": null,
      "outputs": []
    },
    {
      "cell_type": "code",
      "source": [],
      "metadata": {
        "id": "9JuqAWZREymT"
      },
      "execution_count": null,
      "outputs": []
    },
    {
      "cell_type": "code",
      "source": [],
      "metadata": {
        "id": "IqT4HnxUEypR"
      },
      "execution_count": null,
      "outputs": []
    },
    {
      "cell_type": "code",
      "source": [],
      "metadata": {
        "id": "ejlxiJhKEysY"
      },
      "execution_count": null,
      "outputs": []
    }
  ]
}